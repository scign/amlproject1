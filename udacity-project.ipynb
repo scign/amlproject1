{
 "cells": [
  {
   "cell_type": "code",
   "execution_count": null,
   "metadata": {},
   "outputs": [],
   "source": [
    "WORKSPACE_NAME = 'quick-starts-ws-121376'"
   ]
  },
  {
   "cell_type": "code",
   "execution_count": 2,
   "metadata": {
    "ExecuteTime": {
     "end_time": "2020-10-18T22:58:55.752696Z",
     "start_time": "2020-10-18T22:58:55.745750Z"
    }
   },
   "outputs": [],
   "source": [
    "import os\n",
    "NOTEBOOK_LOCATION = 'cloud' if os.environ.get('USER','') == 'azureuser' else 'local'"
   ]
  },
  {
   "cell_type": "code",
   "execution_count": 3,
   "metadata": {
    "ExecuteTime": {
     "end_time": "2020-10-18T22:59:36.080188Z",
     "start_time": "2020-10-18T22:59:00.259849Z"
    },
    "scrolled": true
   },
   "outputs": [
    {
     "name": "stdout",
     "output_type": "stream",
     "text": [
      "Performing interactive authentication. Please follow the instructions on the terminal.\n"
     ]
    },
    {
     "name": "stderr",
     "output_type": "stream",
     "text": [
      "WARNING - Note, we have launched a browser for you to login. For old experience with device code, use \"az login --use-device-code\"\n"
     ]
    },
    {
     "name": "stdout",
     "output_type": "stream",
     "text": [
      "You have logged in. Now let us find all the subscriptions to which you have access...\n",
      "Interactive authentication successfully completed.\n"
     ]
    }
   ],
   "source": [
    "from azureml.core.authentication import InteractiveLoginAuthentication\n",
    "if NOTEBOOK_LOCATION == 'local':\n",
    "    TENANT_ID = input('Tenant ID: ')\n",
    "    SUBSCRIPTION_ID = input('Subscription ID: ')\n",
    "    RESOURCE_GROUP = input('Resource group: ')\n",
    "    auth = InteractiveLoginAuthentication(force=True, tenant_id=TENANT_ID)"
   ]
  },
  {
   "cell_type": "code",
   "execution_count": 4,
   "metadata": {
    "ExecuteTime": {
     "end_time": "2020-10-18T22:59:46.725250Z",
     "start_time": "2020-10-18T22:59:45.591965Z"
    }
   },
   "outputs": [
    {
     "name": "stdout",
     "output_type": "stream",
     "text": [
      "Workspace name: quick-starts-ws-121376\n",
      "Azure region: southcentralus\n",
      "Subscription id: 30d182b7-c8c4-421c-8fa0-d3037ecfe6d2\n",
      "Resource group: aml-quickstarts-121376\n"
     ]
    }
   ],
   "source": [
    "from azureml.core import Workspace\n",
    "\n",
    "if NOTEBOOK_LOCATION == 'local':\n",
    "    ws = Workspace.get(\n",
    "        name=WORKSPACE_NAME,\n",
    "        subscription_id=SUBSCRIPTION_ID,\n",
    "        resource_group=RESOURCE_GROUP\n",
    "    )\n",
    "else:\n",
    "    ws = Workspace.get(WORKSPACE_NAME)\n",
    "    \n",
    "print('Workspace name: ' + ws.name, \n",
    "      'Azure region: ' + ws.location, \n",
    "      'Subscription id: ' + ws.subscription_id, \n",
    "      'Resource group: ' + ws.resource_group, sep = '\\n')"
   ]
  },
  {
   "cell_type": "code",
   "execution_count": 5,
   "metadata": {
    "ExecuteTime": {
     "end_time": "2020-10-18T22:59:50.371977Z",
     "start_time": "2020-10-18T22:59:50.367986Z"
    }
   },
   "outputs": [],
   "source": [
    "from azureml.core import Experiment"
   ]
  },
  {
   "cell_type": "code",
   "execution_count": 6,
   "metadata": {
    "ExecuteTime": {
     "end_time": "2020-10-18T22:59:55.324277Z",
     "start_time": "2020-10-18T22:59:53.284022Z"
    }
   },
   "outputs": [
    {
     "data": {
      "text/plain": [
       "dict_keys(['auto-ml', 'notebook121376'])"
      ]
     },
     "execution_count": 6,
     "metadata": {},
     "output_type": "execute_result"
    }
   ],
   "source": [
    "ws.compute_targets.keys()"
   ]
  },
  {
   "cell_type": "code",
   "execution_count": 7,
   "metadata": {
    "ExecuteTime": {
     "end_time": "2020-10-18T23:02:29.959348Z",
     "start_time": "2020-10-18T23:00:07.279375Z"
    }
   },
   "outputs": [
    {
     "name": "stdout",
     "output_type": "stream",
     "text": [
      "Creating\n",
      "Succeeded.......................\n",
      "AmlCompute wait for completion finished\n",
      "\n",
      "Minimum number of nodes requested have been provisioned\n"
     ]
    }
   ],
   "source": [
    "from azureml.core.compute import ComputeTarget, AmlCompute\n",
    "\n",
    "# TODO: Create compute cluster\n",
    "# Use vm_size = \"Standard_D2_V2\" in your provisioning configuration.\n",
    "# max_nodes should be no greater than 4.\n",
    "\n",
    "compute_name = os.environ.get(\"AML_COMPUTE_CLUSTER_NAME\", \"aml-compute\")\n",
    "vm_size = os.environ.get(\"AML_COMPUTE_CLUSTER_SKU\", \"STANDARD_D2_V2\")\n",
    "compute_min_nodes = os.environ.get(\"AML_COMPUTE_CLUSTER_MIN_NODES\", 2)\n",
    "compute_max_nodes = os.environ.get(\"AML_COMPUTE_CLUSTER_MAX_NODES\", 4)\n",
    "\n",
    "if compute_name in ws.compute_targets:\n",
    "    compute_target = ws.compute_targets[compute_name]\n",
    "    if compute_target and type(compute_target) is AmlCompute:\n",
    "        print('Using existing compute target: ' + compute_name)\n",
    "else:\n",
    "    compute_config = AmlCompute.provisioning_configuration(\n",
    "        vm_size=vm_size,\n",
    "        min_nodes=compute_min_nodes,\n",
    "        max_nodes=compute_max_nodes\n",
    "    )\n",
    "    compute_target = ComputeTarget.create(ws, compute_name, compute_config)"
   ]
  },
  {
   "cell_type": "code",
   "execution_count": null,
   "metadata": {},
   "outputs": [],
   "source": []
  },
  {
   "cell_type": "markdown",
   "metadata": {},
   "source": [
    "# HyperDrive"
   ]
  },
  {
   "cell_type": "code",
   "execution_count": 63,
   "metadata": {
    "ExecuteTime": {
     "end_time": "2020-10-18T16:44:10.553169Z",
     "start_time": "2020-10-18T16:44:10.502306Z"
    }
   },
   "outputs": [],
   "source": [
    "from azureml.train.sklearn import SKLearn\n",
    "from azureml.train.hyperdrive.policy import BanditPolicy\n",
    "from azureml.train.hyperdrive.sampling import RandomParameterSampling\n",
    "from azureml.train.hyperdrive.parameter_expressions import loguniform, choice\n",
    "\n",
    "hyd_est = SKLearn(\n",
    "    source_directory='./',\n",
    "    entry_script='train.py',\n",
    "    compute_target=compute_target\n",
    ")\n",
    "'''\n",
    "hyperparameters for sklearn.linear_model.LogisticRegression:\n",
    "penalty='l2'   # ['l1', 'l2', 'elasticnet', 'none']\n",
    "C=1.0   # [.001, .01, .1, 1, 10, 100, 1000]\n",
    "solver='lbfgs'   # ['liblinear', 'saga']\n",
    "max_iter=100   # [125, 150]\n",
    "multi_class='auto'   # ['multinomial', 'ovr']\n",
    "'''\n",
    "\n",
    "# Specify parameter sampler\n",
    "ps = RandomParameterSampling({\n",
    "    \"penalty\": choice('l1', 'l2'),\n",
    "    \"C\": loguniform(-4, 3),\n",
    "    \"solver\": choice('lbfgs', 'saga')\n",
    "})\n",
    "\n",
    "# Specify a Policy for early stopping\n",
    "policy = BanditPolicy(\n",
    "    evaluation_interval = 10,\n",
    "    slack_factor = 0.2\n",
    ")"
   ]
  },
  {
   "cell_type": "raw",
   "metadata": {},
   "source": [
    "auto_ml_classification_metrics = [\n",
    "    'accuracy',\n",
    "    'AUC_weighted',\n",
    "    'average_precision_score_weighted',\n",
    "    'norm_macro_recall',\n",
    "    'precision_score_weighted'\n",
    "]"
   ]
  },
  {
   "cell_type": "code",
   "execution_count": 65,
   "metadata": {
    "ExecuteTime": {
     "end_time": "2020-10-18T16:44:11.401529Z",
     "start_time": "2020-10-18T16:44:11.395543Z"
    }
   },
   "outputs": [],
   "source": [
    "from azureml.train.hyperdrive.run import PrimaryMetricGoal\n",
    "from azureml.train.hyperdrive.runconfig import HyperDriveConfig\n",
    "\n",
    "# Create a HyperDriveConfig using the estimator, hyperparameter sampler, and policy.\n",
    "hyperdrive_config = HyperDriveConfig(\n",
    "    estimator=est,\n",
    "    hyperparameter_sampling=ps,\n",
    "    primary_metric_name='norm_macro_recall',\n",
    "    primary_metric_goal=PrimaryMetricGoal.MAXIMIZE,\n",
    "    policy=policy,\n",
    "    max_total_runs=50,\n",
    "    max_concurrent_runs=4\n",
    ")"
   ]
  },
  {
   "cell_type": "code",
   "execution_count": 11,
   "metadata": {
    "ExecuteTime": {
     "end_time": "2020-10-18T16:05:48.411346Z",
     "start_time": "2020-10-18T16:05:46.339565Z"
    }
   },
   "outputs": [],
   "source": [
    "hyd_exp = Experiment(workspace=ws, name=\"udacity-project\")"
   ]
  },
  {
   "cell_type": "code",
   "execution_count": null,
   "metadata": {},
   "outputs": [],
   "source": [
    "compute_target.wait_for_completion(show_output=True)"
   ]
  },
  {
   "cell_type": "code",
   "execution_count": 68,
   "metadata": {
    "ExecuteTime": {
     "end_time": "2020-10-18T17:12:27.399575Z",
     "start_time": "2020-10-18T17:12:23.419265Z"
    }
   },
   "outputs": [
    {
     "data": {
      "text/html": [
       "<table style=\"width:100%\"><tr><th>Experiment</th><th>Id</th><th>Type</th><th>Status</th><th>Details Page</th><th>Docs Page</th></tr><tr><td>udacity-project</td><td>HD_097e76a8-9ecc-4308-acff-ce915cd23202</td><td>hyperdrive</td><td>Running</td><td><a href=\"https://ml.azure.com/experiments/udacity-project/runs/HD_097e76a8-9ecc-4308-acff-ce915cd23202?wsid=/subscriptions/25e9e549-bc6b-4c63-bae8-181a9aa56fa7/resourcegroups/aml-quickstarts-121313/workspaces/quick-starts-ws-121313\" target=\"_blank\" rel=\"noopener\">Link to Azure Machine Learning studio</a></td><td><a href=\"https://docs.microsoft.com/en-us/python/api/overview/azure/ml/intro?view=azure-ml-py\" target=\"_blank\" rel=\"noopener\">Link to Documentation</a></td></tr></table>"
      ],
      "text/plain": [
       "Run(Experiment: udacity-project,\n",
       "Id: HD_097e76a8-9ecc-4308-acff-ce915cd23202,\n",
       "Type: hyperdrive,\n",
       "Status: Running)"
      ]
     },
     "execution_count": 68,
     "metadata": {},
     "output_type": "execute_result"
    }
   ],
   "source": [
    "hyd_run = hyd_exp.submit(config=hyperdrive_config)\n",
    "hyd_run"
   ]
  },
  {
   "cell_type": "code",
   "execution_count": 76,
   "metadata": {
    "ExecuteTime": {
     "end_time": "2020-10-18T17:15:21.582670Z",
     "start_time": "2020-10-18T17:15:19.705903Z"
    }
   },
   "outputs": [
    {
     "name": "stdout",
     "output_type": "stream",
     "text": [
      "Best Run Id:  HD_5c402c15-2bfc-4560-a34a-ebbed2a234aa_25\n",
      "Accuracy:  0.9005563985837127\n",
      "F1 score:  0.340710932260228\n"
     ]
    }
   ],
   "source": [
    "hyd_best_run = hyper_run.get_best_run_by_primary_metric()\n",
    "hyd_best_run_metrics = hyd_best_run.get_metrics()\n",
    "\n",
    "print('Best Run Id: ', hyd_best_run.id)\n",
    "print('Accuracy: ', hyd_best_run_metrics['accuracy'])\n",
    "print('F1 score: ', hyd_best_run_metrics['AUC_weighted'])"
   ]
  },
  {
   "cell_type": "code",
   "execution_count": 91,
   "metadata": {
    "ExecuteTime": {
     "end_time": "2020-10-18T17:25:22.278001Z",
     "start_time": "2020-10-18T17:25:21.429565Z"
    },
    "collapsed": true
   },
   "outputs": [
    {
     "ename": "ModelPathNotFoundException",
     "evalue": "ModelPathNotFoundException:\n\tMessage: Could not locate the provided model_path bankmarketing-amlproject in the set of files uploaded to the run: ['azureml-logs/55_azureml-execution-tvmps_a74db4c82d09cfa59fe38e5740c4f5fe87c1c4e2d428aa2028ead362d31a34b6_d.txt', 'azureml-logs/65_job_prep-tvmps_a74db4c82d09cfa59fe38e5740c4f5fe87c1c4e2d428aa2028ead362d31a34b6_d.txt', 'azureml-logs/70_driver_log.txt', 'azureml-logs/75_job_post-tvmps_a74db4c82d09cfa59fe38e5740c4f5fe87c1c4e2d428aa2028ead362d31a34b6_d.txt', 'azureml-logs/process_info.json', 'azureml-logs/process_status.json', 'logs/azureml/108_azureml.log', 'logs/azureml/job_prep_azureml.log', 'logs/azureml/job_release_azureml.log']\n                See https://aka.ms/run-logging for more details.\n\tInnerException None\n\tErrorResponse \n{\n    \"error\": {\n        \"message\": \"Could not locate the provided model_path bankmarketing-amlproject in the set of files uploaded to the run: ['azureml-logs/55_azureml-execution-tvmps_a74db4c82d09cfa59fe38e5740c4f5fe87c1c4e2d428aa2028ead362d31a34b6_d.txt', 'azureml-logs/65_job_prep-tvmps_a74db4c82d09cfa59fe38e5740c4f5fe87c1c4e2d428aa2028ead362d31a34b6_d.txt', 'azureml-logs/70_driver_log.txt', 'azureml-logs/75_job_post-tvmps_a74db4c82d09cfa59fe38e5740c4f5fe87c1c4e2d428aa2028ead362d31a34b6_d.txt', 'azureml-logs/process_info.json', 'azureml-logs/process_status.json', 'logs/azureml/108_azureml.log', 'logs/azureml/job_prep_azureml.log', 'logs/azureml/job_release_azureml.log']\\n                See https://aka.ms/run-logging for more details.\"\n    }\n}",
     "output_type": "error",
     "traceback": [
      "\u001b[1;31m---------------------------------------------------------------------------\u001b[0m",
      "\u001b[1;31mModelPathNotFoundException\u001b[0m                Traceback (most recent call last)",
      "\u001b[1;32m<ipython-input-91-46308eb26bc0>\u001b[0m in \u001b[0;36m<module>\u001b[1;34m\u001b[0m\n\u001b[0;32m      1\u001b[0m \u001b[1;31m# Get your best run and save the model from that run.\u001b[0m\u001b[1;33m\u001b[0m\u001b[1;33m\u001b[0m\u001b[1;33m\u001b[0m\u001b[0m\n\u001b[1;32m----> 2\u001b[1;33m \u001b[0mmodel\u001b[0m \u001b[1;33m=\u001b[0m \u001b[0mbest_run\u001b[0m\u001b[1;33m.\u001b[0m\u001b[0mregister_model\u001b[0m\u001b[1;33m(\u001b[0m\u001b[0mmodel_name\u001b[0m\u001b[1;33m=\u001b[0m\u001b[1;34m'bankmarketing-amlproject'\u001b[0m\u001b[1;33m)\u001b[0m\u001b[1;33m\u001b[0m\u001b[1;33m\u001b[0m\u001b[0m\n\u001b[0m",
      "\u001b[1;32m~\\anaconda3\\envs\\azure\\lib\\site-packages\\azureml\\core\\run.py\u001b[0m in \u001b[0;36mregister_model\u001b[1;34m(self, model_name, model_path, tags, properties, model_framework, model_framework_version, description, datasets, sample_input_dataset, sample_output_dataset, resource_configuration, **kwargs)\u001b[0m\n\u001b[0;32m   2089\u001b[0m         \"\"\"\n\u001b[0;32m   2090\u001b[0m         \u001b[0mmodel_name_validation\u001b[0m\u001b[1;33m(\u001b[0m\u001b[0mmodel_name\u001b[0m\u001b[1;33m)\u001b[0m\u001b[1;33m\u001b[0m\u001b[1;33m\u001b[0m\u001b[0m\n\u001b[1;32m-> 2091\u001b[1;33m         return self._client.register_model(\n\u001b[0m\u001b[0;32m   2092\u001b[0m             \u001b[0mmodel_name\u001b[0m\u001b[1;33m,\u001b[0m \u001b[0mmodel_path\u001b[0m\u001b[1;33m,\u001b[0m \u001b[0mtags\u001b[0m\u001b[1;33m,\u001b[0m \u001b[0mproperties\u001b[0m\u001b[1;33m,\u001b[0m \u001b[0mmodel_framework\u001b[0m\u001b[1;33m,\u001b[0m \u001b[0mmodel_framework_version\u001b[0m\u001b[1;33m,\u001b[0m\u001b[1;33m\u001b[0m\u001b[1;33m\u001b[0m\u001b[0m\n\u001b[0;32m   2093\u001b[0m             \u001b[0mdescription\u001b[0m\u001b[1;33m=\u001b[0m\u001b[0mdescription\u001b[0m\u001b[1;33m,\u001b[0m \u001b[0mdatasets\u001b[0m\u001b[1;33m=\u001b[0m\u001b[0mdatasets\u001b[0m\u001b[1;33m,\u001b[0m \u001b[0munpack\u001b[0m\u001b[1;33m=\u001b[0m\u001b[1;32mFalse\u001b[0m\u001b[1;33m,\u001b[0m \u001b[0msample_input_dataset\u001b[0m\u001b[1;33m=\u001b[0m\u001b[0msample_input_dataset\u001b[0m\u001b[1;33m,\u001b[0m\u001b[1;33m\u001b[0m\u001b[1;33m\u001b[0m\u001b[0m\n",
      "\u001b[1;32m~\\anaconda3\\envs\\azure\\lib\\site-packages\\azureml\\_run_impl\\run_history_facade.py\u001b[0m in \u001b[0;36mregister_model\u001b[1;34m(self, model_name, model_path, tags, properties, model_framework, model_framework_version, asset_id, sample_input_dataset, sample_output_dataset, resource_configuration, **kwargs)\u001b[0m\n\u001b[0;32m    441\u001b[0m         \u001b[1;32mif\u001b[0m \u001b[1;32mnot\u001b[0m \u001b[0mcloud_file_paths\u001b[0m\u001b[1;33m:\u001b[0m\u001b[1;33m\u001b[0m\u001b[1;33m\u001b[0m\u001b[0m\n\u001b[0;32m    442\u001b[0m             \u001b[0mrun_files\u001b[0m \u001b[1;33m=\u001b[0m \u001b[0mlist\u001b[0m\u001b[1;33m(\u001b[0m\u001b[0mself\u001b[0m\u001b[1;33m.\u001b[0m\u001b[0martifacts\u001b[0m\u001b[1;33m.\u001b[0m\u001b[0mget_file_paths\u001b[0m\u001b[1;33m(\u001b[0m\u001b[0mself\u001b[0m\u001b[1;33m.\u001b[0m\u001b[0m_origin\u001b[0m\u001b[1;33m,\u001b[0m \u001b[0mself\u001b[0m\u001b[1;33m.\u001b[0m\u001b[0m_data_container_id\u001b[0m\u001b[1;33m)\u001b[0m\u001b[1;33m)\u001b[0m\u001b[1;33m\u001b[0m\u001b[1;33m\u001b[0m\u001b[0m\n\u001b[1;32m--> 443\u001b[1;33m             raise ModelPathNotFoundException(\n\u001b[0m\u001b[0;32m    444\u001b[0m                 \"\"\"Could not locate the provided model_path {} in the set of files uploaded to the run: {}\n\u001b[0;32m    445\u001b[0m                 See https://aka.ms/run-logging for more details.\"\"\".format(model_path, str(run_files)))\n",
      "\u001b[1;31mModelPathNotFoundException\u001b[0m: ModelPathNotFoundException:\n\tMessage: Could not locate the provided model_path bankmarketing-amlproject in the set of files uploaded to the run: ['azureml-logs/55_azureml-execution-tvmps_a74db4c82d09cfa59fe38e5740c4f5fe87c1c4e2d428aa2028ead362d31a34b6_d.txt', 'azureml-logs/65_job_prep-tvmps_a74db4c82d09cfa59fe38e5740c4f5fe87c1c4e2d428aa2028ead362d31a34b6_d.txt', 'azureml-logs/70_driver_log.txt', 'azureml-logs/75_job_post-tvmps_a74db4c82d09cfa59fe38e5740c4f5fe87c1c4e2d428aa2028ead362d31a34b6_d.txt', 'azureml-logs/process_info.json', 'azureml-logs/process_status.json', 'logs/azureml/108_azureml.log', 'logs/azureml/job_prep_azureml.log', 'logs/azureml/job_release_azureml.log']\n                See https://aka.ms/run-logging for more details.\n\tInnerException None\n\tErrorResponse \n{\n    \"error\": {\n        \"message\": \"Could not locate the provided model_path bankmarketing-amlproject in the set of files uploaded to the run: ['azureml-logs/55_azureml-execution-tvmps_a74db4c82d09cfa59fe38e5740c4f5fe87c1c4e2d428aa2028ead362d31a34b6_d.txt', 'azureml-logs/65_job_prep-tvmps_a74db4c82d09cfa59fe38e5740c4f5fe87c1c4e2d428aa2028ead362d31a34b6_d.txt', 'azureml-logs/70_driver_log.txt', 'azureml-logs/75_job_post-tvmps_a74db4c82d09cfa59fe38e5740c4f5fe87c1c4e2d428aa2028ead362d31a34b6_d.txt', 'azureml-logs/process_info.json', 'azureml-logs/process_status.json', 'logs/azureml/108_azureml.log', 'logs/azureml/job_prep_azureml.log', 'logs/azureml/job_release_azureml.log']\\n                See https://aka.ms/run-logging for more details.\"\n    }\n}"
     ]
    }
   ],
   "source": [
    "# Get your best run and save the model from that run.\n",
    "hyd_model = hyd_best_run.register_model(\n",
    "    model_name='Bank Marketing HyperDrive best model',\n",
    "    model_path=os.path.join('outputs','model.joblib')\n",
    ")"
   ]
  },
  {
   "cell_type": "code",
   "execution_count": null,
   "metadata": {},
   "outputs": [],
   "source": []
  },
  {
   "cell_type": "markdown",
   "metadata": {},
   "source": [
    "# AutoML"
   ]
  },
  {
   "cell_type": "code",
   "execution_count": 8,
   "metadata": {
    "ExecuteTime": {
     "end_time": "2020-10-18T23:02:39.969869Z",
     "start_time": "2020-10-18T23:02:29.961336Z"
    }
   },
   "outputs": [],
   "source": [
    "from azureml.data.dataset_factory import TabularDatasetFactory\n",
    "\n",
    "# Create TabularDataset using TabularDatasetFactory\n",
    "# Data is available at: \n",
    "# \"https://automlsamplenotebookdata.blob.core.windows.net/automl-sample-notebook-data/bankmarketing_train.csv\"\n",
    "\n",
    "data_file_source = \"https://automlsamplenotebookdata.blob.core.windows.net/automl-sample-notebook-data/bankmarketing_train.csv\"\n",
    "ds = TabularDatasetFactory.from_delimited_files(path=data_file_source)"
   ]
  },
  {
   "cell_type": "code",
   "execution_count": 9,
   "metadata": {
    "ExecuteTime": {
     "end_time": "2020-10-18T23:02:44.630559Z",
     "start_time": "2020-10-18T23:02:39.971778Z"
    }
   },
   "outputs": [],
   "source": [
    "from train import clean_data\n",
    "\n",
    "# Use the clean_data function to clean your data.\n",
    "x, y = clean_data(ds)"
   ]
  },
  {
   "cell_type": "code",
   "execution_count": 10,
   "metadata": {
    "ExecuteTime": {
     "end_time": "2020-10-18T23:02:44.660489Z",
     "start_time": "2020-10-18T23:02:44.631559Z"
    }
   },
   "outputs": [],
   "source": [
    "from sklearn.model_selection import train_test_split\n",
    "\n",
    "x_train, x_test, y_train, y_test = train_test_split(x, y, train_size=0.7, random_state=42)"
   ]
  },
  {
   "cell_type": "code",
   "execution_count": 11,
   "metadata": {
    "ExecuteTime": {
     "end_time": "2020-10-18T23:02:46.234342Z",
     "start_time": "2020-10-18T23:02:44.661476Z"
    }
   },
   "outputs": [
    {
     "data": {
      "text/plain": [
       "azureml.data.azure_storage_datastore.AzureBlobDatastore"
      ]
     },
     "execution_count": 11,
     "metadata": {},
     "output_type": "execute_result"
    }
   ],
   "source": [
    "datastore = ws.get_default_datastore()\n",
    "type(datastore)"
   ]
  },
  {
   "cell_type": "code",
   "execution_count": 12,
   "metadata": {
    "ExecuteTime": {
     "end_time": "2020-10-18T23:03:09.486064Z",
     "start_time": "2020-10-18T23:03:09.164794Z"
    }
   },
   "outputs": [],
   "source": [
    "x_train.assign(target=y_train).to_csv('df_train.csv')"
   ]
  },
  {
   "cell_type": "code",
   "execution_count": 13,
   "metadata": {
    "ExecuteTime": {
     "end_time": "2020-10-18T23:03:17.827849Z",
     "start_time": "2020-10-18T23:03:10.300801Z"
    }
   },
   "outputs": [
    {
     "name": "stdout",
     "output_type": "stream",
     "text": [
      "Uploading an estimated of 1 files\n",
      "Uploading df_train.csv\n",
      "Uploaded df_train.csv, 1 files out of an estimated total of 1\n",
      "Uploaded 1 files\n"
     ]
    },
    {
     "data": {
      "text/plain": [
       "$AZUREML_DATAREFERENCE_workspaceblobstore"
      ]
     },
     "execution_count": 13,
     "metadata": {},
     "output_type": "execute_result"
    }
   ],
   "source": [
    "datastore.upload_files(['df_train.csv'], overwrite=True)"
   ]
  },
  {
   "cell_type": "code",
   "execution_count": 14,
   "metadata": {
    "ExecuteTime": {
     "end_time": "2020-10-18T23:03:27.021796Z",
     "start_time": "2020-10-18T23:03:17.832829Z"
    }
   },
   "outputs": [],
   "source": [
    "train_ds = TabularDatasetFactory.from_delimited_files((datastore, 'df_train.csv'))"
   ]
  },
  {
   "cell_type": "code",
   "execution_count": 15,
   "metadata": {
    "ExecuteTime": {
     "end_time": "2020-10-18T23:03:27.041707Z",
     "start_time": "2020-10-18T23:03:27.035724Z"
    }
   },
   "outputs": [
    {
     "data": {
      "text/plain": [
       "azureml.data.tabular_dataset.TabularDataset"
      ]
     },
     "execution_count": 15,
     "metadata": {},
     "output_type": "execute_result"
    }
   ],
   "source": [
    "type(train_ds)"
   ]
  },
  {
   "cell_type": "code",
   "execution_count": 16,
   "metadata": {
    "ExecuteTime": {
     "end_time": "2020-10-18T23:03:30.717626Z",
     "start_time": "2020-10-18T23:03:30.710645Z"
    }
   },
   "outputs": [],
   "source": [
    "from azureml.train.automl import AutoMLConfig\n",
    "\n",
    "# Set parameters for AutoMLConfig\n",
    "# NOTE: DO NOT CHANGE THE experiment_timeout_minutes PARAMETER OR YOUR INSTANCE WILL TIME OUT.\n",
    "# If you wish to run the experiment longer, you will need to run this notebook in your own\n",
    "# Azure tenant, which will incur personal costs.\n",
    "\n",
    "aml_classification_metrics = [\n",
    "    'accuracy',\n",
    "    'AUC_weighted',\n",
    "    'average_precision_score_weighted',\n",
    "    'norm_macro_recall',\n",
    "    'precision_score_weighted'\n",
    "]\n",
    "\n",
    "automl_config = AutoMLConfig(\n",
    "    experiment_timeout_minutes=30,\n",
    "    task='classification',\n",
    "    primary_metric='norm_macro_recall',\n",
    "    training_data=train_ds,\n",
    "    label_column_name='target',\n",
    "    compute_target=compute_target,\n",
    "    n_cross_validations=5\n",
    ")"
   ]
  },
  {
   "cell_type": "code",
   "execution_count": 17,
   "metadata": {
    "ExecuteTime": {
     "end_time": "2020-10-18T23:04:51.825863Z",
     "start_time": "2020-10-18T23:04:51.089617Z"
    }
   },
   "outputs": [
    {
     "name": "stdout",
     "output_type": "stream",
     "text": [
      "Succeeded\n",
      "AmlCompute wait for completion finished\n",
      "\n",
      "Minimum number of nodes requested have been provisioned\n"
     ]
    }
   ],
   "source": [
    "compute_target.wait_for_completion(show_output=True)"
   ]
  },
  {
   "cell_type": "code",
   "execution_count": 18,
   "metadata": {
    "ExecuteTime": {
     "end_time": "2020-10-18T23:05:12.902040Z",
     "start_time": "2020-10-18T23:04:54.245872Z"
    }
   },
   "outputs": [
    {
     "name": "stdout",
     "output_type": "stream",
     "text": [
      "Running on remote.\n"
     ]
    },
    {
     "data": {
      "text/html": [
       "<table style=\"width:100%\"><tr><th>Experiment</th><th>Id</th><th>Type</th><th>Status</th><th>Details Page</th><th>Docs Page</th></tr><tr><td>automl_test_experiment</td><td>AutoML_9b2681b7-92ea-4e12-957d-2bcb464540a6</td><td>automl</td><td>NotStarted</td><td><a href=\"https://ml.azure.com/experiments/automl_test_experiment/runs/AutoML_9b2681b7-92ea-4e12-957d-2bcb464540a6?wsid=/subscriptions/30d182b7-c8c4-421c-8fa0-d3037ecfe6d2/resourcegroups/aml-quickstarts-121376/workspaces/quick-starts-ws-121376\" target=\"_blank\" rel=\"noopener\">Link to Azure Machine Learning studio</a></td><td><a href=\"https://docs.microsoft.com/en-us/python/api/overview/azure/ml/intro?view=azure-ml-py\" target=\"_blank\" rel=\"noopener\">Link to Documentation</a></td></tr></table>"
      ],
      "text/plain": [
       "Run(Experiment: automl_test_experiment,\n",
       "Id: AutoML_9b2681b7-92ea-4e12-957d-2bcb464540a6,\n",
       "Type: automl,\n",
       "Status: NotStarted)"
      ]
     },
     "execution_count": 18,
     "metadata": {},
     "output_type": "execute_result"
    }
   ],
   "source": [
    "# Submit your automl run\n",
    "\n",
    "from azureml.core.experiment import Experiment\n",
    "\n",
    "automl_exp = Experiment(ws, \"automl_test_experiment\")\n",
    "automl_run = automl_exp.submit(config=automl_config)\n",
    "automl_run"
   ]
  },
  {
   "cell_type": "code",
   "execution_count": null,
   "metadata": {},
   "outputs": [],
   "source": [
    "from azureml.widgets import RunDetails\n",
    "RunDetails(automl_run).show()"
   ]
  },
  {
   "cell_type": "code",
   "execution_count": 28,
   "metadata": {
    "ExecuteTime": {
     "end_time": "2020-10-18T23:40:37.893065Z",
     "start_time": "2020-10-18T23:40:37.880909Z"
    }
   },
   "outputs": [],
   "source": [
    "import pandas as pd"
   ]
  },
  {
   "cell_type": "code",
   "execution_count": 61,
   "metadata": {
    "ExecuteTime": {
     "end_time": "2020-10-19T00:02:48.978285Z",
     "start_time": "2020-10-19T00:01:15.397056Z"
    },
    "scrolled": false
   },
   "outputs": [],
   "source": [
    "metrics = []\n",
    "for r in automl_run.get_children():\n",
    "    if r.get_status()=='Completed':\n",
    "        run_metrics = r.get_metrics()\n",
    "        run_metrics['run_id'] = r.get_details()['runId']\n",
    "        run_metrics['algorithm'] = r.get_details()['properties']['run_algorithm']\n",
    "        run_metrics['preprocessor'] = r.get_details()['properties']['run_preprocessor']\n",
    "        metrics.append(run_metrics)\n",
    "df_runs = pd.DataFrame(metrics)"
   ]
  },
  {
   "cell_type": "code",
   "execution_count": 30,
   "metadata": {
    "ExecuteTime": {
     "end_time": "2020-10-18T23:41:31.312979Z",
     "start_time": "2020-10-18T23:41:30.721930Z"
    }
   },
   "outputs": [],
   "source": [
    "import seaborn as sns\n",
    "sns.set_style('whitegrid')"
   ]
  },
  {
   "cell_type": "code",
   "execution_count": 60,
   "metadata": {
    "ExecuteTime": {
     "end_time": "2020-10-19T00:01:02.326776Z",
     "start_time": "2020-10-19T00:01:02.319834Z"
    }
   },
   "outputs": [
    {
     "data": {
      "text/plain": [
       "Index([], dtype='object')"
      ]
     },
     "execution_count": 60,
     "metadata": {},
     "output_type": "execute_result"
    }
   ],
   "source": [
    "df_runs.columns"
   ]
  },
  {
   "cell_type": "code",
   "execution_count": 62,
   "metadata": {
    "ExecuteTime": {
     "end_time": "2020-10-19T00:02:56.655426Z",
     "start_time": "2020-10-19T00:02:56.644938Z"
    }
   },
   "outputs": [
    {
     "data": {
      "text/plain": [
       "count    25.000000\n",
       "mean      0.310044\n",
       "std       0.159020\n",
       "min       0.000000\n",
       "25%       0.165899\n",
       "50%       0.426672\n",
       "75%       0.448029\n",
       "max       0.490103\n",
       "Name: norm_macro_recall, dtype: float64"
      ]
     },
     "execution_count": 62,
     "metadata": {},
     "output_type": "execute_result"
    }
   ],
   "source": [
    "df_runs['norm_macro_recall'].describe()"
   ]
  },
  {
   "cell_type": "code",
   "execution_count": 64,
   "metadata": {
    "ExecuteTime": {
     "end_time": "2020-10-19T00:11:02.356907Z",
     "start_time": "2020-10-19T00:11:02.349927Z"
    }
   },
   "outputs": [],
   "source": [
    "df_runs_best = df_runs[df_runs['norm_macro_recall'] > df_runs['norm_macro_recall'].median()]"
   ]
  },
  {
   "cell_type": "code",
   "execution_count": 78,
   "metadata": {
    "ExecuteTime": {
     "end_time": "2020-10-19T00:16:08.341647Z",
     "start_time": "2020-10-19T00:16:08.002467Z"
    }
   },
   "outputs": [
    {
     "ename": "TypeError",
     "evalue": "tuple indices must be integers or slices, not str",
     "output_type": "error",
     "traceback": [
      "\u001b[1;31m---------------------------------------------------------------------------\u001b[0m",
      "\u001b[1;31mTypeError\u001b[0m                                 Traceback (most recent call last)",
      "\u001b[1;32m<ipython-input-78-14047464c9d8>\u001b[0m in \u001b[0;36m<module>\u001b[1;34m\u001b[0m\n\u001b[0;32m     10\u001b[0m )\n\u001b[0;32m     11\u001b[0m \u001b[1;32mfor\u001b[0m \u001b[0mrow\u001b[0m \u001b[1;32min\u001b[0m \u001b[0mdf_runs_best\u001b[0m\u001b[1;33m.\u001b[0m\u001b[0mitertuples\u001b[0m\u001b[1;33m(\u001b[0m\u001b[1;33m)\u001b[0m\u001b[1;33m:\u001b[0m\u001b[1;33m\u001b[0m\u001b[1;33m\u001b[0m\u001b[0m\n\u001b[1;32m---> 12\u001b[1;33m     \u001b[0max\u001b[0m\u001b[1;33m.\u001b[0m\u001b[0mtext\u001b[0m\u001b[1;33m(\u001b[0m\u001b[0mgetattr\u001b[0m\u001b[1;33m(\u001b[0m\u001b[0mrow\u001b[0m\u001b[1;33m,\u001b[0m \u001b[0mx_metric\u001b[0m\u001b[1;33m)\u001b[0m\u001b[1;33m+\u001b[0m\u001b[1;36m0.02\u001b[0m\u001b[1;33m,\u001b[0m \u001b[0mgetattr\u001b[0m\u001b[1;33m(\u001b[0m\u001b[0mrow\u001b[0m\u001b[1;33m,\u001b[0m \u001b[0my_metric\u001b[0m\u001b[1;33m)\u001b[0m\u001b[1;33m+\u001b[0m\u001b[1;36m0.02\u001b[0m\u001b[1;33m,\u001b[0m \u001b[0mrow\u001b[0m\u001b[1;33m[\u001b[0m\u001b[1;34m'algorithm'\u001b[0m\u001b[1;33m]\u001b[0m\u001b[1;33m)\u001b[0m\u001b[1;33m\u001b[0m\u001b[1;33m\u001b[0m\u001b[0m\n\u001b[0m",
      "\u001b[1;31mTypeError\u001b[0m: tuple indices must be integers or slices, not str"
     ]
    },
    {
     "data": {
      "image/png": "[encoded data removed]",
      "text/plain": [
       "<Figure size 432x288 with 1 Axes>"
      ]
     },
     "metadata": {},
     "output_type": "display_data"
    }
   ],
   "source": [
    "x_metric = 'AUC_micro'\n",
    "y_metric = 'AUC_macro'\n",
    "hue_metric = 'norm_macro_recall'\n",
    "\n",
    "ax = sns.scatterplot(\n",
    "    data=df_runs_best,\n",
    "    x=x_metric,\n",
    "    y=y_metric,\n",
    "    hue=hue_metric\n",
    ")\n",
    "for row in df_runs_best.itertuples():\n",
    "    ax.text(getattr(row, x_metric)+0.02, getattr(row, y_metric)+0.02, row['algorithm'])"
   ]
  },
  {
   "cell_type": "code",
   "execution_count": 39,
   "metadata": {
    "ExecuteTime": {
     "end_time": "2020-10-18T23:51:22.163907Z",
     "start_time": "2020-10-18T23:51:22.115365Z"
    }
   },
   "outputs": [
    {
     "data": {
      "text/html": [
       "<div>\n",
       "<style scoped>\n",
       "    .dataframe tbody tr th:only-of-type {\n",
       "        vertical-align: middle;\n",
       "    }\n",
       "\n",
       "    .dataframe tbody tr th {\n",
       "        vertical-align: top;\n",
       "    }\n",
       "\n",
       "    .dataframe thead th {\n",
       "        text-align: right;\n",
       "    }\n",
       "</style>\n",
       "<table border=\"1\" class=\"dataframe\">\n",
       "  <thead>\n",
       "    <tr style=\"text-align: right;\">\n",
       "      <th></th>\n",
       "      <th>norm_macro_recall</th>\n",
       "      <th>average_precision_score_weighted</th>\n",
       "      <th>balanced_accuracy</th>\n",
       "      <th>recall_score_micro</th>\n",
       "      <th>precision_score_weighted</th>\n",
       "      <th>average_precision_score_macro</th>\n",
       "      <th>weighted_accuracy</th>\n",
       "      <th>f1_score_weighted</th>\n",
       "      <th>matthews_correlation</th>\n",
       "      <th>AUC_weighted</th>\n",
       "      <th>...</th>\n",
       "      <th>average_precision_score_micro</th>\n",
       "      <th>recall_score_weighted</th>\n",
       "      <th>f1_score_macro</th>\n",
       "      <th>f1_score_micro</th>\n",
       "      <th>log_loss</th>\n",
       "      <th>precision_score_macro</th>\n",
       "      <th>AUC_macro</th>\n",
       "      <th>precision_score_micro</th>\n",
       "      <th>confusion_matrix</th>\n",
       "      <th>accuracy_table</th>\n",
       "    </tr>\n",
       "  </thead>\n",
       "  <tbody>\n",
       "    <tr>\n",
       "      <th>0</th>\n",
       "      <td>0.490103</td>\n",
       "      <td>0.897186</td>\n",
       "      <td>0.745051</td>\n",
       "      <td>0.835552</td>\n",
       "      <td>0.883324</td>\n",
       "      <td>0.695756</td>\n",
       "      <td>0.858067</td>\n",
       "      <td>0.853589</td>\n",
       "      <td>0.391834</td>\n",
       "      <td>0.789223</td>\n",
       "      <td>...</td>\n",
       "      <td>0.772721</td>\n",
       "      <td>0.835552</td>\n",
       "      <td>0.682029</td>\n",
       "      <td>0.835552</td>\n",
       "      <td>0.520753</td>\n",
       "      <td>0.656845</td>\n",
       "      <td>0.789223</td>\n",
       "      <td>0.835552</td>\n",
       "      <td>aml://artifactId/ExperimentRun/dcid.AutoML_9b2...</td>\n",
       "      <td>aml://artifactId/ExperimentRun/dcid.AutoML_9b2...</td>\n",
       "    </tr>\n",
       "    <tr>\n",
       "      <th>1</th>\n",
       "      <td>0.476025</td>\n",
       "      <td>0.896249</td>\n",
       "      <td>0.738012</td>\n",
       "      <td>0.832820</td>\n",
       "      <td>0.880928</td>\n",
       "      <td>0.694490</td>\n",
       "      <td>0.856368</td>\n",
       "      <td>0.851150</td>\n",
       "      <td>0.380728</td>\n",
       "      <td>0.782870</td>\n",
       "      <td>...</td>\n",
       "      <td>0.870719</td>\n",
       "      <td>0.832820</td>\n",
       "      <td>0.676808</td>\n",
       "      <td>0.832820</td>\n",
       "      <td>0.457604</td>\n",
       "      <td>0.652397</td>\n",
       "      <td>0.782870</td>\n",
       "      <td>0.832820</td>\n",
       "      <td>aml://artifactId/ExperimentRun/dcid.AutoML_9b2...</td>\n",
       "      <td>aml://artifactId/ExperimentRun/dcid.AutoML_9b2...</td>\n",
       "    </tr>\n",
       "    <tr>\n",
       "      <th>3</th>\n",
       "      <td>0.426972</td>\n",
       "      <td>0.889283</td>\n",
       "      <td>0.713486</td>\n",
       "      <td>0.718231</td>\n",
       "      <td>0.871850</td>\n",
       "      <td>0.668360</td>\n",
       "      <td>0.719390</td>\n",
       "      <td>0.767965</td>\n",
       "      <td>0.286659</td>\n",
       "      <td>0.770802</td>\n",
       "      <td>...</td>\n",
       "      <td>0.759983</td>\n",
       "      <td>0.718231</td>\n",
       "      <td>0.589523</td>\n",
       "      <td>0.718231</td>\n",
       "      <td>0.560475</td>\n",
       "      <td>0.596263</td>\n",
       "      <td>0.770802</td>\n",
       "      <td>0.718231</td>\n",
       "      <td>aml://artifactId/ExperimentRun/dcid.AutoML_9b2...</td>\n",
       "      <td>aml://artifactId/ExperimentRun/dcid.AutoML_9b2...</td>\n",
       "    </tr>\n",
       "    <tr>\n",
       "      <th>5</th>\n",
       "      <td>0.431074</td>\n",
       "      <td>0.891072</td>\n",
       "      <td>0.715537</td>\n",
       "      <td>0.728723</td>\n",
       "      <td>0.872142</td>\n",
       "      <td>0.672458</td>\n",
       "      <td>0.732071</td>\n",
       "      <td>0.775834</td>\n",
       "      <td>0.292670</td>\n",
       "      <td>0.771965</td>\n",
       "      <td>...</td>\n",
       "      <td>0.757004</td>\n",
       "      <td>0.728723</td>\n",
       "      <td>0.596631</td>\n",
       "      <td>0.728723</td>\n",
       "      <td>0.553637</td>\n",
       "      <td>0.599435</td>\n",
       "      <td>0.771965</td>\n",
       "      <td>0.728723</td>\n",
       "      <td>aml://artifactId/ExperimentRun/dcid.AutoML_9b2...</td>\n",
       "      <td>aml://artifactId/ExperimentRun/dcid.AutoML_9b2...</td>\n",
       "    </tr>\n",
       "    <tr>\n",
       "      <th>8</th>\n",
       "      <td>0.451089</td>\n",
       "      <td>0.890921</td>\n",
       "      <td>0.725545</td>\n",
       "      <td>0.776675</td>\n",
       "      <td>0.874450</td>\n",
       "      <td>0.686002</td>\n",
       "      <td>0.789339</td>\n",
       "      <td>0.810905</td>\n",
       "      <td>0.324669</td>\n",
       "      <td>0.770707</td>\n",
       "      <td>...</td>\n",
       "      <td>0.770919</td>\n",
       "      <td>0.776675</td>\n",
       "      <td>0.630403</td>\n",
       "      <td>0.776675</td>\n",
       "      <td>0.545502</td>\n",
       "      <td>0.616899</td>\n",
       "      <td>0.770707</td>\n",
       "      <td>0.776675</td>\n",
       "      <td>aml://artifactId/ExperimentRun/dcid.AutoML_9b2...</td>\n",
       "      <td>aml://artifactId/ExperimentRun/dcid.AutoML_9b2...</td>\n",
       "    </tr>\n",
       "    <tr>\n",
       "      <th>9</th>\n",
       "      <td>0.458607</td>\n",
       "      <td>0.895132</td>\n",
       "      <td>0.729303</td>\n",
       "      <td>0.786993</td>\n",
       "      <td>0.875673</td>\n",
       "      <td>0.690070</td>\n",
       "      <td>0.801316</td>\n",
       "      <td>0.818425</td>\n",
       "      <td>0.334939</td>\n",
       "      <td>0.778023</td>\n",
       "      <td>...</td>\n",
       "      <td>0.770801</td>\n",
       "      <td>0.786993</td>\n",
       "      <td>0.638875</td>\n",
       "      <td>0.786993</td>\n",
       "      <td>0.529368</td>\n",
       "      <td>0.622362</td>\n",
       "      <td>0.778023</td>\n",
       "      <td>0.786993</td>\n",
       "      <td>aml://artifactId/ExperimentRun/dcid.AutoML_9b2...</td>\n",
       "      <td>aml://artifactId/ExperimentRun/dcid.AutoML_9b2...</td>\n",
       "    </tr>\n",
       "    <tr>\n",
       "      <th>10</th>\n",
       "      <td>0.448029</td>\n",
       "      <td>0.890550</td>\n",
       "      <td>0.724015</td>\n",
       "      <td>0.757945</td>\n",
       "      <td>0.874032</td>\n",
       "      <td>0.686443</td>\n",
       "      <td>0.766342</td>\n",
       "      <td>0.797448</td>\n",
       "      <td>0.313756</td>\n",
       "      <td>0.769977</td>\n",
       "      <td>...</td>\n",
       "      <td>0.765242</td>\n",
       "      <td>0.757945</td>\n",
       "      <td>0.617660</td>\n",
       "      <td>0.757945</td>\n",
       "      <td>0.554056</td>\n",
       "      <td>0.609899</td>\n",
       "      <td>0.769977</td>\n",
       "      <td>0.757945</td>\n",
       "      <td>aml://artifactId/ExperimentRun/dcid.AutoML_9b2...</td>\n",
       "      <td>aml://artifactId/ExperimentRun/dcid.AutoML_9b2...</td>\n",
       "    </tr>\n",
       "    <tr>\n",
       "      <th>14</th>\n",
       "      <td>0.451314</td>\n",
       "      <td>0.893552</td>\n",
       "      <td>0.725657</td>\n",
       "      <td>0.762020</td>\n",
       "      <td>0.874507</td>\n",
       "      <td>0.685610</td>\n",
       "      <td>0.771030</td>\n",
       "      <td>0.800453</td>\n",
       "      <td>0.317480</td>\n",
       "      <td>0.776401</td>\n",
       "      <td>...</td>\n",
       "      <td>0.766393</td>\n",
       "      <td>0.762020</td>\n",
       "      <td>0.620818</td>\n",
       "      <td>0.762020</td>\n",
       "      <td>0.537281</td>\n",
       "      <td>0.611706</td>\n",
       "      <td>0.776401</td>\n",
       "      <td>0.762020</td>\n",
       "      <td>aml://artifactId/ExperimentRun/dcid.AutoML_9b2...</td>\n",
       "      <td>aml://artifactId/ExperimentRun/dcid.AutoML_9b2...</td>\n",
       "    </tr>\n",
       "    <tr>\n",
       "      <th>16</th>\n",
       "      <td>0.441833</td>\n",
       "      <td>0.890221</td>\n",
       "      <td>0.720916</td>\n",
       "      <td>0.753263</td>\n",
       "      <td>0.873344</td>\n",
       "      <td>0.679923</td>\n",
       "      <td>0.761366</td>\n",
       "      <td>0.793864</td>\n",
       "      <td>0.309255</td>\n",
       "      <td>0.771588</td>\n",
       "      <td>...</td>\n",
       "      <td>0.747026</td>\n",
       "      <td>0.753263</td>\n",
       "      <td>0.614042</td>\n",
       "      <td>0.753263</td>\n",
       "      <td>0.796642</td>\n",
       "      <td>0.608402</td>\n",
       "      <td>0.771588</td>\n",
       "      <td>0.753263</td>\n",
       "      <td>aml://artifactId/ExperimentRun/dcid.AutoML_9b2...</td>\n",
       "      <td>aml://artifactId/ExperimentRun/dcid.AutoML_9b2...</td>\n",
       "    </tr>\n",
       "    <tr>\n",
       "      <th>17</th>\n",
       "      <td>0.426972</td>\n",
       "      <td>0.884571</td>\n",
       "      <td>0.713486</td>\n",
       "      <td>0.718231</td>\n",
       "      <td>0.871850</td>\n",
       "      <td>0.655913</td>\n",
       "      <td>0.719390</td>\n",
       "      <td>0.767965</td>\n",
       "      <td>0.286659</td>\n",
       "      <td>0.760217</td>\n",
       "      <td>...</td>\n",
       "      <td>0.739337</td>\n",
       "      <td>0.718231</td>\n",
       "      <td>0.589523</td>\n",
       "      <td>0.718231</td>\n",
       "      <td>0.586597</td>\n",
       "      <td>0.596263</td>\n",
       "      <td>0.760217</td>\n",
       "      <td>0.718231</td>\n",
       "      <td>aml://artifactId/ExperimentRun/dcid.AutoML_9b2...</td>\n",
       "      <td>aml://artifactId/ExperimentRun/dcid.AutoML_9b2...</td>\n",
       "    </tr>\n",
       "    <tr>\n",
       "      <th>20</th>\n",
       "      <td>0.435605</td>\n",
       "      <td>0.890673</td>\n",
       "      <td>0.717803</td>\n",
       "      <td>0.743204</td>\n",
       "      <td>0.873182</td>\n",
       "      <td>0.685266</td>\n",
       "      <td>0.749574</td>\n",
       "      <td>0.785925</td>\n",
       "      <td>0.304341</td>\n",
       "      <td>0.768932</td>\n",
       "      <td>...</td>\n",
       "      <td>0.708386</td>\n",
       "      <td>0.743204</td>\n",
       "      <td>0.607464</td>\n",
       "      <td>0.743204</td>\n",
       "      <td>0.604905</td>\n",
       "      <td>0.606713</td>\n",
       "      <td>0.768932</td>\n",
       "      <td>0.743204</td>\n",
       "      <td>aml://artifactId/ExperimentRun/dcid.AutoML_9b2...</td>\n",
       "      <td>aml://artifactId/ExperimentRun/dcid.AutoML_9b2...</td>\n",
       "    </tr>\n",
       "    <tr>\n",
       "      <th>22</th>\n",
       "      <td>0.449782</td>\n",
       "      <td>0.888791</td>\n",
       "      <td>0.724891</td>\n",
       "      <td>0.770561</td>\n",
       "      <td>0.874412</td>\n",
       "      <td>0.676962</td>\n",
       "      <td>0.781888</td>\n",
       "      <td>0.806456</td>\n",
       "      <td>0.321834</td>\n",
       "      <td>0.768106</td>\n",
       "      <td>...</td>\n",
       "      <td>0.777748</td>\n",
       "      <td>0.770561</td>\n",
       "      <td>0.626558</td>\n",
       "      <td>0.770561</td>\n",
       "      <td>0.682634</td>\n",
       "      <td>0.615301</td>\n",
       "      <td>0.768106</td>\n",
       "      <td>0.770561</td>\n",
       "      <td>aml://artifactId/ExperimentRun/dcid.AutoML_9b2...</td>\n",
       "      <td>aml://artifactId/ExperimentRun/dcid.AutoML_9b2...</td>\n",
       "    </tr>\n",
       "  </tbody>\n",
       "</table>\n",
       "<p>12 rows × 23 columns</p>\n",
       "</div>"
      ],
      "text/plain": [
       "    norm_macro_recall  average_precision_score_weighted  balanced_accuracy  \\\n",
       "0            0.490103                          0.897186           0.745051   \n",
       "1            0.476025                          0.896249           0.738012   \n",
       "3            0.426972                          0.889283           0.713486   \n",
       "5            0.431074                          0.891072           0.715537   \n",
       "8            0.451089                          0.890921           0.725545   \n",
       "9            0.458607                          0.895132           0.729303   \n",
       "10           0.448029                          0.890550           0.724015   \n",
       "14           0.451314                          0.893552           0.725657   \n",
       "16           0.441833                          0.890221           0.720916   \n",
       "17           0.426972                          0.884571           0.713486   \n",
       "20           0.435605                          0.890673           0.717803   \n",
       "22           0.449782                          0.888791           0.724891   \n",
       "\n",
       "    recall_score_micro  precision_score_weighted  \\\n",
       "0             0.835552                  0.883324   \n",
       "1             0.832820                  0.880928   \n",
       "3             0.718231                  0.871850   \n",
       "5             0.728723                  0.872142   \n",
       "8             0.776675                  0.874450   \n",
       "9             0.786993                  0.875673   \n",
       "10            0.757945                  0.874032   \n",
       "14            0.762020                  0.874507   \n",
       "16            0.753263                  0.873344   \n",
       "17            0.718231                  0.871850   \n",
       "20            0.743204                  0.873182   \n",
       "22            0.770561                  0.874412   \n",
       "\n",
       "    average_precision_score_macro  weighted_accuracy  f1_score_weighted  \\\n",
       "0                        0.695756           0.858067           0.853589   \n",
       "1                        0.694490           0.856368           0.851150   \n",
       "3                        0.668360           0.719390           0.767965   \n",
       "5                        0.672458           0.732071           0.775834   \n",
       "8                        0.686002           0.789339           0.810905   \n",
       "9                        0.690070           0.801316           0.818425   \n",
       "10                       0.686443           0.766342           0.797448   \n",
       "14                       0.685610           0.771030           0.800453   \n",
       "16                       0.679923           0.761366           0.793864   \n",
       "17                       0.655913           0.719390           0.767965   \n",
       "20                       0.685266           0.749574           0.785925   \n",
       "22                       0.676962           0.781888           0.806456   \n",
       "\n",
       "    matthews_correlation  AUC_weighted  ...  average_precision_score_micro  \\\n",
       "0               0.391834      0.789223  ...                       0.772721   \n",
       "1               0.380728      0.782870  ...                       0.870719   \n",
       "3               0.286659      0.770802  ...                       0.759983   \n",
       "5               0.292670      0.771965  ...                       0.757004   \n",
       "8               0.324669      0.770707  ...                       0.770919   \n",
       "9               0.334939      0.778023  ...                       0.770801   \n",
       "10              0.313756      0.769977  ...                       0.765242   \n",
       "14              0.317480      0.776401  ...                       0.766393   \n",
       "16              0.309255      0.771588  ...                       0.747026   \n",
       "17              0.286659      0.760217  ...                       0.739337   \n",
       "20              0.304341      0.768932  ...                       0.708386   \n",
       "22              0.321834      0.768106  ...                       0.777748   \n",
       "\n",
       "    recall_score_weighted  f1_score_macro  f1_score_micro  log_loss  \\\n",
       "0                0.835552        0.682029        0.835552  0.520753   \n",
       "1                0.832820        0.676808        0.832820  0.457604   \n",
       "3                0.718231        0.589523        0.718231  0.560475   \n",
       "5                0.728723        0.596631        0.728723  0.553637   \n",
       "8                0.776675        0.630403        0.776675  0.545502   \n",
       "9                0.786993        0.638875        0.786993  0.529368   \n",
       "10               0.757945        0.617660        0.757945  0.554056   \n",
       "14               0.762020        0.620818        0.762020  0.537281   \n",
       "16               0.753263        0.614042        0.753263  0.796642   \n",
       "17               0.718231        0.589523        0.718231  0.586597   \n",
       "20               0.743204        0.607464        0.743204  0.604905   \n",
       "22               0.770561        0.626558        0.770561  0.682634   \n",
       "\n",
       "    precision_score_macro  AUC_macro  precision_score_micro  \\\n",
       "0                0.656845   0.789223               0.835552   \n",
       "1                0.652397   0.782870               0.832820   \n",
       "3                0.596263   0.770802               0.718231   \n",
       "5                0.599435   0.771965               0.728723   \n",
       "8                0.616899   0.770707               0.776675   \n",
       "9                0.622362   0.778023               0.786993   \n",
       "10               0.609899   0.769977               0.757945   \n",
       "14               0.611706   0.776401               0.762020   \n",
       "16               0.608402   0.771588               0.753263   \n",
       "17               0.596263   0.760217               0.718231   \n",
       "20               0.606713   0.768932               0.743204   \n",
       "22               0.615301   0.768106               0.770561   \n",
       "\n",
       "                                     confusion_matrix  \\\n",
       "0   aml://artifactId/ExperimentRun/dcid.AutoML_9b2...   \n",
       "1   aml://artifactId/ExperimentRun/dcid.AutoML_9b2...   \n",
       "3   aml://artifactId/ExperimentRun/dcid.AutoML_9b2...   \n",
       "5   aml://artifactId/ExperimentRun/dcid.AutoML_9b2...   \n",
       "8   aml://artifactId/ExperimentRun/dcid.AutoML_9b2...   \n",
       "9   aml://artifactId/ExperimentRun/dcid.AutoML_9b2...   \n",
       "10  aml://artifactId/ExperimentRun/dcid.AutoML_9b2...   \n",
       "14  aml://artifactId/ExperimentRun/dcid.AutoML_9b2...   \n",
       "16  aml://artifactId/ExperimentRun/dcid.AutoML_9b2...   \n",
       "17  aml://artifactId/ExperimentRun/dcid.AutoML_9b2...   \n",
       "20  aml://artifactId/ExperimentRun/dcid.AutoML_9b2...   \n",
       "22  aml://artifactId/ExperimentRun/dcid.AutoML_9b2...   \n",
       "\n",
       "                                       accuracy_table  \n",
       "0   aml://artifactId/ExperimentRun/dcid.AutoML_9b2...  \n",
       "1   aml://artifactId/ExperimentRun/dcid.AutoML_9b2...  \n",
       "3   aml://artifactId/ExperimentRun/dcid.AutoML_9b2...  \n",
       "5   aml://artifactId/ExperimentRun/dcid.AutoML_9b2...  \n",
       "8   aml://artifactId/ExperimentRun/dcid.AutoML_9b2...  \n",
       "9   aml://artifactId/ExperimentRun/dcid.AutoML_9b2...  \n",
       "10  aml://artifactId/ExperimentRun/dcid.AutoML_9b2...  \n",
       "14  aml://artifactId/ExperimentRun/dcid.AutoML_9b2...  \n",
       "16  aml://artifactId/ExperimentRun/dcid.AutoML_9b2...  \n",
       "17  aml://artifactId/ExperimentRun/dcid.AutoML_9b2...  \n",
       "20  aml://artifactId/ExperimentRun/dcid.AutoML_9b2...  \n",
       "22  aml://artifactId/ExperimentRun/dcid.AutoML_9b2...  \n",
       "\n",
       "[12 rows x 23 columns]"
      ]
     },
     "execution_count": 39,
     "metadata": {},
     "output_type": "execute_result"
    }
   ],
   "source": [
    "df_runs_best"
   ]
  },
  {
   "cell_type": "code",
   "execution_count": null,
   "metadata": {},
   "outputs": [],
   "source": [
    "# Retrieve and save your best automl model.\n",
    "automl_best_run = automl_run.get_best_run_by_primary_metric()\n",
    "automl_best_run_metrics = automl_best_run.get_metrics()\n",
    "\n",
    "print('Best Run Id: ', automl_best_run.id)\n",
    "print('Accuracy: ', automl_best_run_metrics['accuracy'])\n",
    "print('F1 score: ', automl_best_run_metrics['f1-score'])\n",
    "\n",
    "model = automl_best_run.register_model(\n",
    "    description='Bank Marketing AutoML best model'\n",
    ")"
   ]
  },
  {
   "cell_type": "code",
   "execution_count": null,
   "metadata": {},
   "outputs": [],
   "source": []
  },
  {
   "cell_type": "code",
   "execution_count": 27,
   "metadata": {
    "ExecuteTime": {
     "end_time": "2020-10-18T16:12:37.491058Z",
     "start_time": "2020-10-18T16:11:56.126328Z"
    }
   },
   "outputs": [
    {
     "name": "stdout",
     "output_type": "stream",
     "text": [
      "Deleting........\n",
      "SucceededProvisioning operation finished, operation \"Succeeded\"\n"
     ]
    }
   ],
   "source": [
    "compute_target.delete()\n",
    "compute_target.wait_for_completion(show_output=True, is_delete_operation=True)"
   ]
  }
 ],
 "metadata": {
  "kernelspec": {
   "display_name": "azureml",
   "language": "python",
   "name": "azureml"
  },
  "language_info": {
   "codemirror_mode": {
    "name": "ipython",
    "version": 3
   },
   "file_extension": ".py",
   "mimetype": "text/x-python",
   "name": "python",
   "nbconvert_exporter": "python",
   "pygments_lexer": "ipython3",
   "version": "3.8.5"
  }
 },
 "nbformat": 4,
 "nbformat_minor": 4
}
