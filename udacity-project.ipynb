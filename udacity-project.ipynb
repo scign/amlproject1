{
 "cells": [
  {
   "cell_type": "code",
   "execution_count": null,
   "metadata": {},
   "outputs": [],
   "source": [
    "import os\n",
    "# [print(f'{k: <25}\\t{v}') for k,v in os.environ.items()];"
   ]
  },
  {
   "cell_type": "code",
   "execution_count": 2,
   "metadata": {
    "ExecuteTime": {
     "end_time": "2020-10-18T22:58:55.752696Z",
     "start_time": "2020-10-18T22:58:55.745750Z"
    }
   },
   "outputs": [],
   "source": [
    "NOTEBOOK_LOCATION = 'cloud' if os.environ.get('USER','') == 'azureuser' else 'local'\n",
    "print(NOTEBOOK_LOCATION)"
   ]
  },
  {
   "cell_type": "code",
   "execution_count": 3,
   "metadata": {
    "ExecuteTime": {
     "end_time": "2020-10-18T22:59:36.080188Z",
     "start_time": "2020-10-18T22:59:00.259849Z"
    },
    "scrolled": true
   },
   "outputs": [
    {
     "name": "stdout",
     "output_type": "stream",
     "text": [
      "Performing interactive authentication. Please follow the instructions on the terminal.\n"
     ]
    },
    {
     "name": "stderr",
     "output_type": "stream",
     "text": [
      "WARNING - Note, we have launched a browser for you to login. For old experience with device code, use \"az login --use-device-code\"\n"
     ]
    },
    {
     "name": "stdout",
     "output_type": "stream",
     "text": [
      "You have logged in. Now let us find all the subscriptions to which you have access...\n",
      "Interactive authentication successfully completed.\n"
     ]
    }
   ],
   "source": [
    "from azureml.core.authentication import InteractiveLoginAuthentication\n",
    "if NOTEBOOK_LOCATION == 'local':\n",
    "    TENANT_ID = input('Tenant ID: ')\n",
    "    SUBSCRIPTION_ID = input('Subscription ID: ')\n",
    "    RESOURCE_GROUP = input('Resource group: ')\n",
    "    WORKSPACE_NAME = input('Workspace name: ')\n",
    "    auth = InteractiveLoginAuthentication(force=True, tenant_id=TENANT_ID)"
   ]
  },
  {
   "cell_type": "code",
   "execution_count": 4,
   "metadata": {
    "ExecuteTime": {
     "end_time": "2020-10-18T22:59:46.725250Z",
     "start_time": "2020-10-18T22:59:45.591965Z"
    }
   },
   "outputs": [
    {
     "name": "stdout",
     "output_type": "stream",
     "text": [
      "Workspace name: quick-starts-ws-121376\n",
      "Azure region: southcentralus\n",
      "Subscription id: 30d182b7-c8c4-421c-8fa0-d3037ecfe6d2\n",
      "Resource group: aml-quickstarts-121376\n"
     ]
    }
   ],
   "source": [
    "from azureml.core import Workspace\n",
    "\n",
    "if NOTEBOOK_LOCATION == 'local':\n",
    "    ws = Workspace.get(\n",
    "        name=WORKSPACE_NAME,\n",
    "        subscription_id=SUBSCRIPTION_ID,\n",
    "        resource_group=RESOURCE_GROUP\n",
    "    )\n",
    "else:\n",
    "    ws = Workspace.from_config()\n",
    "    \n",
    "print('Workspace name: ' + ws.name, \n",
    "      'Azure region: ' + ws.location, \n",
    "      'Subscription id: ' + ws.subscription_id, \n",
    "      'Resource group: ' + ws.resource_group, sep = '\\n')"
   ]
  },
  {
   "cell_type": "code",
   "execution_count": 5,
   "metadata": {
    "ExecuteTime": {
     "end_time": "2020-10-18T22:59:50.371977Z",
     "start_time": "2020-10-18T22:59:50.367986Z"
    }
   },
   "outputs": [],
   "source": [
    "from azureml.core import Experiment"
   ]
  },
  {
   "cell_type": "code",
   "execution_count": 6,
   "metadata": {
    "ExecuteTime": {
     "end_time": "2020-10-18T22:59:55.324277Z",
     "start_time": "2020-10-18T22:59:53.284022Z"
    }
   },
   "outputs": [
    {
     "data": {
      "text/plain": [
       "dict_keys(['auto-ml', 'notebook121376'])"
      ]
     },
     "execution_count": 6,
     "metadata": {},
     "output_type": "execute_result"
    }
   ],
   "source": [
    "ws.compute_targets.keys()"
   ]
  },
  {
   "cell_type": "code",
   "execution_count": 7,
   "metadata": {
    "ExecuteTime": {
     "end_time": "2020-10-18T23:02:29.959348Z",
     "start_time": "2020-10-18T23:00:07.279375Z"
    }
   },
   "outputs": [
    {
     "name": "stdout",
     "output_type": "stream",
     "text": [
      "Creating\n",
      "Succeeded.......................\n",
      "AmlCompute wait for completion finished\n",
      "\n",
      "Minimum number of nodes requested have been provisioned\n"
     ]
    }
   ],
   "source": [
    "from azureml.core.compute import ComputeTarget, AmlCompute\n",
    "\n",
    "# TODO: Create compute cluster\n",
    "# Use vm_size = \"Standard_D2_V2\" in your provisioning configuration.\n",
    "# max_nodes should be no greater than 4.\n",
    "\n",
    "compute_name = os.environ.get(\"AML_COMPUTE_CLUSTER_NAME\", \"aml-compute\")\n",
    "vm_size = os.environ.get(\"AML_COMPUTE_CLUSTER_SKU\", \"STANDARD_D2_V2\")\n",
    "compute_min_nodes = os.environ.get(\"AML_COMPUTE_CLUSTER_MIN_NODES\", 2)\n",
    "compute_max_nodes = os.environ.get(\"AML_COMPUTE_CLUSTER_MAX_NODES\", 4)\n",
    "\n",
    "if compute_name in ws.compute_targets:\n",
    "    compute_target = ws.compute_targets[compute_name]\n",
    "    if compute_target and type(compute_target) is AmlCompute:\n",
    "        print('Using existing compute target: ' + compute_name)\n",
    "else:\n",
    "    compute_config = AmlCompute.provisioning_configuration(\n",
    "        vm_size=vm_size,\n",
    "        min_nodes=compute_min_nodes,\n",
    "        max_nodes=compute_max_nodes\n",
    "    )\n",
    "    compute_target = ComputeTarget.create(ws, compute_name, compute_config)"
   ]
  },
  {
   "cell_type": "markdown",
   "metadata": {},
   "source": [
    "# HyperDrive"
   ]
  },
  {
   "cell_type": "code",
   "execution_count": 63,
   "metadata": {
    "ExecuteTime": {
     "end_time": "2020-10-18T16:44:10.553169Z",
     "start_time": "2020-10-18T16:44:10.502306Z"
    }
   },
   "outputs": [],
   "source": [
    "from azureml.train.sklearn import SKLearn\n",
    "from azureml.train.hyperdrive.policy import BanditPolicy\n",
    "from azureml.train.hyperdrive.sampling import RandomParameterSampling\n",
    "from azureml.train.hyperdrive.parameter_expressions import loguniform, choice\n",
    "\n",
    "hyd_est = SKLearn(\n",
    "    source_directory='./',\n",
    "    entry_script='train.py',\n",
    "    compute_target=compute_target\n",
    ")\n",
    "'''\n",
    "hyperparameters for sklearn.linear_model.LogisticRegression:\n",
    "penalty='l2'   # ['l1', 'l2', 'elasticnet', 'none']\n",
    "C=1.0   # [.001, .01, .1, 1, 10, 100, 1000]\n",
    "solver='lbfgs'   # ['liblinear', 'saga']\n",
    "max_iter=100   # [125, 150]\n",
    "multi_class='auto'   # ['multinomial', 'ovr']\n",
    "'''\n",
    "\n",
    "# Specify parameter sampler\n",
    "ps = RandomParameterSampling({\n",
    "    \"penalty\": choice('l1', 'l2'),\n",
    "    \"C\": loguniform(-4, 3),\n",
    "    \"solver\": choice('lbfgs', 'saga')\n",
    "})\n",
    "\n",
    "# Specify a Policy for early stopping\n",
    "policy = BanditPolicy(\n",
    "    evaluation_interval = 10,\n",
    "    slack_factor = 0.2\n",
    ")"
   ]
  },
  {
   "cell_type": "raw",
   "metadata": {},
   "source": [
    "auto_ml_classification_metrics = [\n",
    "    'accuracy',\n",
    "    'AUC_weighted',\n",
    "    'average_precision_score_weighted',\n",
    "    'norm_macro_recall',\n",
    "    'precision_score_weighted'\n",
    "]"
   ]
  },
  {
   "cell_type": "code",
   "execution_count": 65,
   "metadata": {
    "ExecuteTime": {
     "end_time": "2020-10-18T16:44:11.401529Z",
     "start_time": "2020-10-18T16:44:11.395543Z"
    }
   },
   "outputs": [],
   "source": [
    "from azureml.train.hyperdrive.run import PrimaryMetricGoal\n",
    "from azureml.train.hyperdrive.runconfig import HyperDriveConfig\n",
    "\n",
    "# Create a HyperDriveConfig using the estimator, hyperparameter sampler, and policy.\n",
    "hyperdrive_config = HyperDriveConfig(\n",
    "    estimator=hyd_est,\n",
    "    hyperparameter_sampling=ps,\n",
    "    primary_metric_name='norm_macro_recall',\n",
    "    primary_metric_goal=PrimaryMetricGoal.MAXIMIZE,\n",
    "    policy=policy,\n",
    "    max_total_runs=50,\n",
    "    max_concurrent_runs=4\n",
    ")"
   ]
  },
  {
   "cell_type": "code",
   "execution_count": 11,
   "metadata": {
    "ExecuteTime": {
     "end_time": "2020-10-18T16:05:48.411346Z",
     "start_time": "2020-10-18T16:05:46.339565Z"
    }
   },
   "outputs": [],
   "source": [
    "hyd_exp = Experiment(workspace=ws, name=\"udacity-project\")"
   ]
  },
  {
   "cell_type": "code",
   "execution_count": null,
   "metadata": {},
   "outputs": [],
   "source": [
    "compute_target.wait_for_completion(show_output=True)"
   ]
  },
  {
   "cell_type": "code",
   "execution_count": 68,
   "metadata": {
    "ExecuteTime": {
     "end_time": "2020-10-18T17:12:27.399575Z",
     "start_time": "2020-10-18T17:12:23.419265Z"
    }
   },
   "outputs": [
    {
     "data": {
      "text/html": [
       "<table style=\"width:100%\"><tr><th>Experiment</th><th>Id</th><th>Type</th><th>Status</th><th>Details Page</th><th>Docs Page</th></tr><tr><td>udacity-project</td><td>HD_097e76a8-9ecc-4308-acff-ce915cd23202</td><td>hyperdrive</td><td>Running</td><td><a href=\"https://ml.azure.com/experiments/udacity-project/runs/HD_097e76a8-9ecc-4308-acff-ce915cd23202?wsid=/subscriptions/25e9e549-bc6b-4c63-bae8-181a9aa56fa7/resourcegroups/aml-quickstarts-121313/workspaces/quick-starts-ws-121313\" target=\"_blank\" rel=\"noopener\">Link to Azure Machine Learning studio</a></td><td><a href=\"https://docs.microsoft.com/en-us/python/api/overview/azure/ml/intro?view=azure-ml-py\" target=\"_blank\" rel=\"noopener\">Link to Documentation</a></td></tr></table>"
      ],
      "text/plain": [
       "Run(Experiment: udacity-project,\n",
       "Id: HD_097e76a8-9ecc-4308-acff-ce915cd23202,\n",
       "Type: hyperdrive,\n",
       "Status: Running)"
      ]
     },
     "execution_count": 68,
     "metadata": {},
     "output_type": "execute_result"
    }
   ],
   "source": [
    "hyd_run = hyd_exp.submit(config=hyperdrive_config)\n",
    "hyd_run"
   ]
  },
  {
   "cell_type": "code",
   "execution_count": 76,
   "metadata": {
    "ExecuteTime": {
     "end_time": "2020-10-18T17:15:21.582670Z",
     "start_time": "2020-10-18T17:15:19.705903Z"
    }
   },
   "outputs": [
    {
     "name": "stdout",
     "output_type": "stream",
     "text": [
      "Best Run Id:  HD_5c402c15-2bfc-4560-a34a-ebbed2a234aa_25\n",
      "Accuracy:  0.9005563985837127\n",
      "F1 score:  0.340710932260228\n"
     ]
    }
   ],
   "source": [
    "hyd_best_run = hyd_run.get_best_run_by_primary_metric()\n",
    "hyd_best_run_metrics = hyd_best_run.get_metrics()\n",
    "\n",
    "print('Best Run Id: ', hyd_best_run.id)\n",
    "print('Accuracy: ', hyd_best_run_metrics['accuracy'])\n",
    "print('F1 score: ', hyd_best_run_metrics['AUC_weighted'])"
   ]
  },
  {
   "cell_type": "code",
   "execution_count": 91,
   "metadata": {
    "ExecuteTime": {
     "end_time": "2020-10-18T17:25:22.278001Z",
     "start_time": "2020-10-18T17:25:21.429565Z"
    },
    "collapsed": true
   },
   "outputs": [
    {
     "ename": "ModelPathNotFoundException",
     "evalue": "ModelPathNotFoundException:\n\tMessage: Could not locate the provided model_path bankmarketing-amlproject in the set of files uploaded to the run: ['azureml-logs/55_azureml-execution-tvmps_a74db4c82d09cfa59fe38e5740c4f5fe87c1c4e2d428aa2028ead362d31a34b6_d.txt', 'azureml-logs/65_job_prep-tvmps_a74db4c82d09cfa59fe38e5740c4f5fe87c1c4e2d428aa2028ead362d31a34b6_d.txt', 'azureml-logs/70_driver_log.txt', 'azureml-logs/75_job_post-tvmps_a74db4c82d09cfa59fe38e5740c4f5fe87c1c4e2d428aa2028ead362d31a34b6_d.txt', 'azureml-logs/process_info.json', 'azureml-logs/process_status.json', 'logs/azureml/108_azureml.log', 'logs/azureml/job_prep_azureml.log', 'logs/azureml/job_release_azureml.log']\n                See https://aka.ms/run-logging for more details.\n\tInnerException None\n\tErrorResponse \n{\n    \"error\": {\n        \"message\": \"Could not locate the provided model_path bankmarketing-amlproject in the set of files uploaded to the run: ['azureml-logs/55_azureml-execution-tvmps_a74db4c82d09cfa59fe38e5740c4f5fe87c1c4e2d428aa2028ead362d31a34b6_d.txt', 'azureml-logs/65_job_prep-tvmps_a74db4c82d09cfa59fe38e5740c4f5fe87c1c4e2d428aa2028ead362d31a34b6_d.txt', 'azureml-logs/70_driver_log.txt', 'azureml-logs/75_job_post-tvmps_a74db4c82d09cfa59fe38e5740c4f5fe87c1c4e2d428aa2028ead362d31a34b6_d.txt', 'azureml-logs/process_info.json', 'azureml-logs/process_status.json', 'logs/azureml/108_azureml.log', 'logs/azureml/job_prep_azureml.log', 'logs/azureml/job_release_azureml.log']\\n                See https://aka.ms/run-logging for more details.\"\n    }\n}",
     "output_type": "error",
     "traceback": [
      "\u001b[1;31m---------------------------------------------------------------------------\u001b[0m",
      "\u001b[1;31mModelPathNotFoundException\u001b[0m                Traceback (most recent call last)",
      "\u001b[1;32m<ipython-input-91-46308eb26bc0>\u001b[0m in \u001b[0;36m<module>\u001b[1;34m\u001b[0m\n\u001b[0;32m      1\u001b[0m \u001b[1;31m# Get your best run and save the model from that run.\u001b[0m\u001b[1;33m\u001b[0m\u001b[1;33m\u001b[0m\u001b[1;33m\u001b[0m\u001b[0m\n\u001b[1;32m----> 2\u001b[1;33m \u001b[0mmodel\u001b[0m \u001b[1;33m=\u001b[0m \u001b[0mbest_run\u001b[0m\u001b[1;33m.\u001b[0m\u001b[0mregister_model\u001b[0m\u001b[1;33m(\u001b[0m\u001b[0mmodel_name\u001b[0m\u001b[1;33m=\u001b[0m\u001b[1;34m'bankmarketing-amlproject'\u001b[0m\u001b[1;33m)\u001b[0m\u001b[1;33m\u001b[0m\u001b[1;33m\u001b[0m\u001b[0m\n\u001b[0m",
      "\u001b[1;32m~\\anaconda3\\envs\\azure\\lib\\site-packages\\azureml\\core\\run.py\u001b[0m in \u001b[0;36mregister_model\u001b[1;34m(self, model_name, model_path, tags, properties, model_framework, model_framework_version, description, datasets, sample_input_dataset, sample_output_dataset, resource_configuration, **kwargs)\u001b[0m\n\u001b[0;32m   2089\u001b[0m         \"\"\"\n\u001b[0;32m   2090\u001b[0m         \u001b[0mmodel_name_validation\u001b[0m\u001b[1;33m(\u001b[0m\u001b[0mmodel_name\u001b[0m\u001b[1;33m)\u001b[0m\u001b[1;33m\u001b[0m\u001b[1;33m\u001b[0m\u001b[0m\n\u001b[1;32m-> 2091\u001b[1;33m         return self._client.register_model(\n\u001b[0m\u001b[0;32m   2092\u001b[0m             \u001b[0mmodel_name\u001b[0m\u001b[1;33m,\u001b[0m \u001b[0mmodel_path\u001b[0m\u001b[1;33m,\u001b[0m \u001b[0mtags\u001b[0m\u001b[1;33m,\u001b[0m \u001b[0mproperties\u001b[0m\u001b[1;33m,\u001b[0m \u001b[0mmodel_framework\u001b[0m\u001b[1;33m,\u001b[0m \u001b[0mmodel_framework_version\u001b[0m\u001b[1;33m,\u001b[0m\u001b[1;33m\u001b[0m\u001b[1;33m\u001b[0m\u001b[0m\n\u001b[0;32m   2093\u001b[0m             \u001b[0mdescription\u001b[0m\u001b[1;33m=\u001b[0m\u001b[0mdescription\u001b[0m\u001b[1;33m,\u001b[0m \u001b[0mdatasets\u001b[0m\u001b[1;33m=\u001b[0m\u001b[0mdatasets\u001b[0m\u001b[1;33m,\u001b[0m \u001b[0munpack\u001b[0m\u001b[1;33m=\u001b[0m\u001b[1;32mFalse\u001b[0m\u001b[1;33m,\u001b[0m \u001b[0msample_input_dataset\u001b[0m\u001b[1;33m=\u001b[0m\u001b[0msample_input_dataset\u001b[0m\u001b[1;33m,\u001b[0m\u001b[1;33m\u001b[0m\u001b[1;33m\u001b[0m\u001b[0m\n",
      "\u001b[1;32m~\\anaconda3\\envs\\azure\\lib\\site-packages\\azureml\\_run_impl\\run_history_facade.py\u001b[0m in \u001b[0;36mregister_model\u001b[1;34m(self, model_name, model_path, tags, properties, model_framework, model_framework_version, asset_id, sample_input_dataset, sample_output_dataset, resource_configuration, **kwargs)\u001b[0m\n\u001b[0;32m    441\u001b[0m         \u001b[1;32mif\u001b[0m \u001b[1;32mnot\u001b[0m \u001b[0mcloud_file_paths\u001b[0m\u001b[1;33m:\u001b[0m\u001b[1;33m\u001b[0m\u001b[1;33m\u001b[0m\u001b[0m\n\u001b[0;32m    442\u001b[0m             \u001b[0mrun_files\u001b[0m \u001b[1;33m=\u001b[0m \u001b[0mlist\u001b[0m\u001b[1;33m(\u001b[0m\u001b[0mself\u001b[0m\u001b[1;33m.\u001b[0m\u001b[0martifacts\u001b[0m\u001b[1;33m.\u001b[0m\u001b[0mget_file_paths\u001b[0m\u001b[1;33m(\u001b[0m\u001b[0mself\u001b[0m\u001b[1;33m.\u001b[0m\u001b[0m_origin\u001b[0m\u001b[1;33m,\u001b[0m \u001b[0mself\u001b[0m\u001b[1;33m.\u001b[0m\u001b[0m_data_container_id\u001b[0m\u001b[1;33m)\u001b[0m\u001b[1;33m)\u001b[0m\u001b[1;33m\u001b[0m\u001b[1;33m\u001b[0m\u001b[0m\n\u001b[1;32m--> 443\u001b[1;33m             raise ModelPathNotFoundException(\n\u001b[0m\u001b[0;32m    444\u001b[0m                 \"\"\"Could not locate the provided model_path {} in the set of files uploaded to the run: {}\n\u001b[0;32m    445\u001b[0m                 See https://aka.ms/run-logging for more details.\"\"\".format(model_path, str(run_files)))\n",
      "\u001b[1;31mModelPathNotFoundException\u001b[0m: ModelPathNotFoundException:\n\tMessage: Could not locate the provided model_path bankmarketing-amlproject in the set of files uploaded to the run: ['azureml-logs/55_azureml-execution-tvmps_a74db4c82d09cfa59fe38e5740c4f5fe87c1c4e2d428aa2028ead362d31a34b6_d.txt', 'azureml-logs/65_job_prep-tvmps_a74db4c82d09cfa59fe38e5740c4f5fe87c1c4e2d428aa2028ead362d31a34b6_d.txt', 'azureml-logs/70_driver_log.txt', 'azureml-logs/75_job_post-tvmps_a74db4c82d09cfa59fe38e5740c4f5fe87c1c4e2d428aa2028ead362d31a34b6_d.txt', 'azureml-logs/process_info.json', 'azureml-logs/process_status.json', 'logs/azureml/108_azureml.log', 'logs/azureml/job_prep_azureml.log', 'logs/azureml/job_release_azureml.log']\n                See https://aka.ms/run-logging for more details.\n\tInnerException None\n\tErrorResponse \n{\n    \"error\": {\n        \"message\": \"Could not locate the provided model_path bankmarketing-amlproject in the set of files uploaded to the run: ['azureml-logs/55_azureml-execution-tvmps_a74db4c82d09cfa59fe38e5740c4f5fe87c1c4e2d428aa2028ead362d31a34b6_d.txt', 'azureml-logs/65_job_prep-tvmps_a74db4c82d09cfa59fe38e5740c4f5fe87c1c4e2d428aa2028ead362d31a34b6_d.txt', 'azureml-logs/70_driver_log.txt', 'azureml-logs/75_job_post-tvmps_a74db4c82d09cfa59fe38e5740c4f5fe87c1c4e2d428aa2028ead362d31a34b6_d.txt', 'azureml-logs/process_info.json', 'azureml-logs/process_status.json', 'logs/azureml/108_azureml.log', 'logs/azureml/job_prep_azureml.log', 'logs/azureml/job_release_azureml.log']\\n                See https://aka.ms/run-logging for more details.\"\n    }\n}"
     ]
    }
   ],
   "source": [
    "# Get your best run and save the model from that run.\n",
    "hyd_model = hyd_best_run.register_model(\n",
    "    model_name='bank-marketing-hyperdrive-best-model',\n",
    "    model_path=os.path.join('outputs','model.joblib')\n",
    ")"
   ]
  },
  {
   "cell_type": "code",
   "execution_count": null,
   "metadata": {},
   "outputs": [],
   "source": []
  },
  {
   "cell_type": "markdown",
   "metadata": {},
   "source": [
    "# AutoML"
   ]
  },
  {
   "cell_type": "code",
   "execution_count": 8,
   "metadata": {
    "ExecuteTime": {
     "end_time": "2020-10-18T23:02:39.969869Z",
     "start_time": "2020-10-18T23:02:29.961336Z"
    }
   },
   "outputs": [],
   "source": [
    "from azureml.data.dataset_factory import TabularDatasetFactory\n",
    "\n",
    "# Create TabularDataset using TabularDatasetFactory\n",
    "# Data is available at: \n",
    "# \"https://automlsamplenotebookdata.blob.core.windows.net/automl-sample-notebook-data/bankmarketing_train.csv\"\n",
    "\n",
    "data_file_source = \"https://automlsamplenotebookdata.blob.core.windows.net/automl-sample-notebook-data/bankmarketing_train.csv\"\n",
    "ds = TabularDatasetFactory.from_delimited_files(path=data_file_source)"
   ]
  },
  {
   "cell_type": "code",
   "execution_count": 9,
   "metadata": {
    "ExecuteTime": {
     "end_time": "2020-10-18T23:02:44.630559Z",
     "start_time": "2020-10-18T23:02:39.971778Z"
    }
   },
   "outputs": [],
   "source": [
    "from train import clean_data\n",
    "\n",
    "# Use the clean_data function to clean your data.\n",
    "x, y = clean_data(ds)"
   ]
  },
  {
   "cell_type": "code",
   "execution_count": 10,
   "metadata": {
    "ExecuteTime": {
     "end_time": "2020-10-18T23:02:44.660489Z",
     "start_time": "2020-10-18T23:02:44.631559Z"
    }
   },
   "outputs": [],
   "source": [
    "from sklearn.model_selection import train_test_split\n",
    "\n",
    "x_train, x_test, y_train, y_test = train_test_split(x, y, train_size=0.7, random_state=42)"
   ]
  },
  {
   "cell_type": "code",
   "execution_count": 11,
   "metadata": {
    "ExecuteTime": {
     "end_time": "2020-10-18T23:02:46.234342Z",
     "start_time": "2020-10-18T23:02:44.661476Z"
    }
   },
   "outputs": [
    {
     "data": {
      "text/plain": [
       "azureml.data.azure_storage_datastore.AzureBlobDatastore"
      ]
     },
     "execution_count": 11,
     "metadata": {},
     "output_type": "execute_result"
    }
   ],
   "source": [
    "datastore = ws.get_default_datastore()\n",
    "type(datastore)"
   ]
  },
  {
   "cell_type": "code",
   "execution_count": 12,
   "metadata": {
    "ExecuteTime": {
     "end_time": "2020-10-18T23:03:09.486064Z",
     "start_time": "2020-10-18T23:03:09.164794Z"
    }
   },
   "outputs": [],
   "source": [
    "x_train.assign(target=y_train).to_csv('df_train.csv')"
   ]
  },
  {
   "cell_type": "code",
   "execution_count": 13,
   "metadata": {
    "ExecuteTime": {
     "end_time": "2020-10-18T23:03:17.827849Z",
     "start_time": "2020-10-18T23:03:10.300801Z"
    }
   },
   "outputs": [
    {
     "name": "stdout",
     "output_type": "stream",
     "text": [
      "Uploading an estimated of 1 files\n",
      "Uploading df_train.csv\n",
      "Uploaded df_train.csv, 1 files out of an estimated total of 1\n",
      "Uploaded 1 files\n"
     ]
    },
    {
     "data": {
      "text/plain": [
       "$AZUREML_DATAREFERENCE_workspaceblobstore"
      ]
     },
     "execution_count": 13,
     "metadata": {},
     "output_type": "execute_result"
    }
   ],
   "source": [
    "datastore.upload_files(['df_train.csv'], overwrite=True)"
   ]
  },
  {
   "cell_type": "code",
   "execution_count": 14,
   "metadata": {
    "ExecuteTime": {
     "end_time": "2020-10-18T23:03:27.021796Z",
     "start_time": "2020-10-18T23:03:17.832829Z"
    }
   },
   "outputs": [],
   "source": [
    "train_ds = TabularDatasetFactory.from_delimited_files((datastore, 'df_train.csv'))"
   ]
  },
  {
   "cell_type": "code",
   "execution_count": 15,
   "metadata": {
    "ExecuteTime": {
     "end_time": "2020-10-18T23:03:27.041707Z",
     "start_time": "2020-10-18T23:03:27.035724Z"
    }
   },
   "outputs": [
    {
     "data": {
      "text/plain": [
       "azureml.data.tabular_dataset.TabularDataset"
      ]
     },
     "execution_count": 15,
     "metadata": {},
     "output_type": "execute_result"
    }
   ],
   "source": [
    "type(train_ds)"
   ]
  },
  {
   "cell_type": "code",
   "execution_count": 16,
   "metadata": {
    "ExecuteTime": {
     "end_time": "2020-10-18T23:03:30.717626Z",
     "start_time": "2020-10-18T23:03:30.710645Z"
    }
   },
   "outputs": [],
   "source": [
    "from azureml.train.automl import AutoMLConfig\n",
    "\n",
    "# Set parameters for AutoMLConfig\n",
    "# NOTE: DO NOT CHANGE THE experiment_timeout_minutes PARAMETER OR YOUR INSTANCE WILL TIME OUT.\n",
    "# If you wish to run the experiment longer, you will need to run this notebook in your own\n",
    "# Azure tenant, which will incur personal costs.\n",
    "\n",
    "aml_classification_metrics = [\n",
    "    'accuracy',\n",
    "    'AUC_weighted',\n",
    "    'average_precision_score_weighted',\n",
    "    'norm_macro_recall',\n",
    "    'precision_score_weighted'\n",
    "]\n",
    "\n",
    "automl_config = AutoMLConfig(\n",
    "    experiment_timeout_minutes=30,\n",
    "    task='classification',\n",
    "    primary_metric='norm_macro_recall',\n",
    "    training_data=train_ds,\n",
    "    label_column_name='target',\n",
    "    compute_target=compute_target,\n",
    "    n_cross_validations=5\n",
    ")"
   ]
  },
  {
   "cell_type": "code",
   "execution_count": 17,
   "metadata": {
    "ExecuteTime": {
     "end_time": "2020-10-18T23:04:51.825863Z",
     "start_time": "2020-10-18T23:04:51.089617Z"
    }
   },
   "outputs": [
    {
     "name": "stdout",
     "output_type": "stream",
     "text": [
      "Succeeded\n",
      "AmlCompute wait for completion finished\n",
      "\n",
      "Minimum number of nodes requested have been provisioned\n"
     ]
    }
   ],
   "source": [
    "compute_target.wait_for_completion(show_output=True)"
   ]
  },
  {
   "cell_type": "code",
   "execution_count": 18,
   "metadata": {
    "ExecuteTime": {
     "end_time": "2020-10-18T23:05:12.902040Z",
     "start_time": "2020-10-18T23:04:54.245872Z"
    }
   },
   "outputs": [
    {
     "name": "stdout",
     "output_type": "stream",
     "text": [
      "Running on remote.\n"
     ]
    },
    {
     "data": {
      "text/html": [
       "<table style=\"width:100%\"><tr><th>Experiment</th><th>Id</th><th>Type</th><th>Status</th><th>Details Page</th><th>Docs Page</th></tr><tr><td>automl_test_experiment</td><td>AutoML_9b2681b7-92ea-4e12-957d-2bcb464540a6</td><td>automl</td><td>NotStarted</td><td><a href=\"https://ml.azure.com/experiments/automl_test_experiment/runs/AutoML_9b2681b7-92ea-4e12-957d-2bcb464540a6?wsid=/subscriptions/30d182b7-c8c4-421c-8fa0-d3037ecfe6d2/resourcegroups/aml-quickstarts-121376/workspaces/quick-starts-ws-121376\" target=\"_blank\" rel=\"noopener\">Link to Azure Machine Learning studio</a></td><td><a href=\"https://docs.microsoft.com/en-us/python/api/overview/azure/ml/intro?view=azure-ml-py\" target=\"_blank\" rel=\"noopener\">Link to Documentation</a></td></tr></table>"
      ],
      "text/plain": [
       "Run(Experiment: automl_test_experiment,\n",
       "Id: AutoML_9b2681b7-92ea-4e12-957d-2bcb464540a6,\n",
       "Type: automl,\n",
       "Status: NotStarted)"
      ]
     },
     "execution_count": 18,
     "metadata": {},
     "output_type": "execute_result"
    }
   ],
   "source": [
    "# Submit your automl run\n",
    "\n",
    "from azureml.core.experiment import Experiment\n",
    "\n",
    "automl_exp = Experiment(ws, \"automl_test_experiment\")\n",
    "automl_run = automl_exp.submit(config=automl_config)\n",
    "automl_run"
   ]
  },
  {
   "cell_type": "code",
   "execution_count": null,
   "metadata": {},
   "outputs": [],
   "source": [
    "from azureml.widgets import RunDetails\n",
    "RunDetails(automl_run).show()"
   ]
  },
  {
   "cell_type": "code",
   "execution_count": null,
   "metadata": {},
   "outputs": [],
   "source": [
    "# Retrieve and save your best automl model.\n",
    "automl_best_run = automl_run.get_best_run_by_primary_metric()\n",
    "automl_best_run_metrics = automl_best_run.get_metrics()\n",
    "\n",
    "print('Best Run Id: ', automl_best_run.id)\n",
    "print('Accuracy: ', automl_best_run_metrics['accuracy'])\n",
    "print('Normalized recall score: ', automl_best_run_metrics['norm_macro_recall'])\n",
    "\n",
    "model = automl_best_run.register_model(\n",
    "    model_name='bank-marketing-automl-best-model',\n",
    "    model_path=os.path.join('outputs','model.pkl')\n",
    ")"
   ]
  },
  {
   "cell_type": "code",
   "execution_count": null,
   "metadata": {},
   "outputs": [],
   "source": []
  },
  {
   "cell_type": "code",
   "execution_count": 27,
   "metadata": {
    "ExecuteTime": {
     "end_time": "2020-10-18T16:12:37.491058Z",
     "start_time": "2020-10-18T16:11:56.126328Z"
    }
   },
   "outputs": [
    {
     "name": "stdout",
     "output_type": "stream",
     "text": [
      "Deleting........\n",
      "SucceededProvisioning operation finished, operation \"Succeeded\"\n"
     ]
    }
   ],
   "source": [
    "compute_target.delete()\n",
    "compute_target.wait_for_completion(show_output=True, is_delete_operation=True)"
   ]
  }
 ],
 "metadata": {
  "kernelspec": {
   "display_name": "azureml",
   "language": "python",
   "name": "azureml"
  },
  "language_info": {
   "codemirror_mode": {
    "name": "ipython",
    "version": 3
   },
   "file_extension": ".py",
   "mimetype": "text/x-python",
   "name": "python",
   "nbconvert_exporter": "python",
   "pygments_lexer": "ipython3",
   "version": "3.8.5"
  }
 },
 "nbformat": 4,
 "nbformat_minor": 4
}
